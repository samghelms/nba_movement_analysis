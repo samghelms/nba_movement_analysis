{
 "cells": [
  {
   "cell_type": "code",
   "execution_count": 1,
   "metadata": {},
   "outputs": [],
   "source": [
    "import glob\n",
    "g = glob.glob('data/processed_games/[0-9]*.csv')"
   ]
  },
  {
   "cell_type": "code",
   "execution_count": null,
   "metadata": {},
   "outputs": [],
   "source": [
    "bigram_cts = None\n",
    "for n in g:\n",
    "    print (n)\n",
    "    df = pd.read_csv(n)\n",
    "    df_sorted = df.sort_values('game_clock')\n",
    "    df_sorted['court_location'] = df_sorted['court_location'].apply(lambda x: (x,) if x is not None else None)\n",
    "\n",
    "    grouped = df_sorted.groupby(['game_clock'])\n",
    "    df_sorted = grouped.apply(get_rel_tobball)\n",
    "#     print(df_sorted['court_location'])\n",
    "    df_sorted['player_ball'] = df_sorted['ball_loc']+df_sorted['court_location']\n",
    "    df_sorted = df_sorted.groupby(['player_id', 'event_id']).apply(make_bigrams_player_ball)\n",
    "\n",
    "    if bigram_cts is None:\n",
    "        df_sorted = df_sorted[['player_id', 'GAME_ID',\n",
    "                                'bigram_player_ball']].dropna()\n",
    "        df_sorted['bigram_player_ball_0'], df_sorted['bigram_player_ball_1'] = zip(*df_sorted['bigram_player_ball'].tolist())\n",
    "        # need to split into indices since pandas can't handle nested tuples\n",
    "        bigram_cts = df_sorted.groupby(['player_id', 'GAME_ID', 'bigram_player_ball_0', 'bigram_player_ball_1']).count()        \n",
    "    else:\n",
    "        df_sorted = df_sorted[['player_id', 'GAME_ID',\n",
    "                                'bigram_player_ball']].dropna()\n",
    "        df_sorted['bigram_player_ball_0'], df_sorted['bigram_player_ball_1'] = zip(*df_sorted['bigram_player_ball'].tolist())\n",
    "        _cts = df_sorted.groupby(['player_id', 'GAME_ID', 'bigram_player_ball_0', 'bigram_player_ball_1']).count()\n",
    "        bigram_cts = bigram_cts.add(_cts, fill_value=0.0)\n",
    "        print(len(bigram_cts.index))\n",
    "        \n",
    "    del df\n",
    "\n",
    "    "
   ]
  }
 ],
 "metadata": {
  "kernelspec": {
   "display_name": "data_cleaning",
   "language": "python",
   "name": "data_cleaning"
  },
  "language_info": {
   "codemirror_mode": {
    "name": "ipython",
    "version": 3
   },
   "file_extension": ".py",
   "mimetype": "text/x-python",
   "name": "python",
   "nbconvert_exporter": "python",
   "pygments_lexer": "ipython3",
   "version": "3.6.4"
  }
 },
 "nbformat": 4,
 "nbformat_minor": 2
}
