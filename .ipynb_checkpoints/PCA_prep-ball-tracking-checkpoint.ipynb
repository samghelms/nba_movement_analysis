{
 "cells": [
  {
   "cell_type": "code",
   "execution_count": 1,
   "metadata": {},
   "outputs": [],
   "source": [
    "import glob\n",
    "import pandas as pd\n",
    "g = glob.glob('data/processed_games/[0-9]*.csv')"
   ]
  },
  {
   "cell_type": "code",
   "execution_count": 2,
   "metadata": {},
   "outputs": [],
   "source": [
    "def _get_strides(g):\n",
    "    g['bigram'] = g.court_location.shift(1)+g.court_location\n",
    "    return g\n",
    "\n",
    "# note: not robust for turnovers\n",
    "def _get_pos_label(g):\n",
    "    try:\n",
    "        pos_team = g[(g.of_def_flag == \"of\")]['team_id'].value_counts().idxmax()\n",
    "    except:\n",
    "        pos_team = None\n",
    "    g['team_in_possession'] = pos_team\n",
    "    return g\n",
    "    "
   ]
  },
  {
   "cell_type": "code",
   "execution_count": 6,
   "metadata": {},
   "outputs": [
    {
     "name": "stdout",
     "output_type": "stream",
     "text": [
      "data/processed_games/0021500001.csv\n"
     ]
    },
    {
     "name": "stderr",
     "output_type": "stream",
     "text": [
      "/Users/sam/miniconda3/envs/data_cleaning/lib/python3.6/site-packages/IPython/core/interactiveshell.py:2728: DtypeWarning: Columns (24,41,43,44,45) have mixed types. Specify dtype option on import or set low_memory=False.\n",
      "  interactivity=interactivity, compiler=compiler, result=result)\n"
     ]
    },
    {
     "name": "stdout",
     "output_type": "stream",
     "text": [
      "    Unnamed: 0  event_id     game_clock        home  player_id  quarter  \\\n",
      "0            0         1  1445991111980  1610612737         -1        1   \n",
      "11          11         1  1445991112500  1610612737         -1        1   \n",
      "22          22         1  1445991113020  1610612737         -1        1   \n",
      "33          33         1  1445991113540  1610612737         -1        1   \n",
      "44          44         1  1445991114060  1610612737         -1        1   \n",
      "\n",
      "     radius  shot_clock  team_id     visitor      ...       PERSON3TYPE  \\\n",
      "0   6.24180       23.43       -1  1610612765      ...               5.0   \n",
      "11  6.87934       22.91       -1  1610612765      ...               5.0   \n",
      "22  7.16649       22.39       -1  1610612765      ...               5.0   \n",
      "33  2.94001       21.87       -1  1610612765      ...               5.0   \n",
      "44  2.29823       21.36       -1  1610612765      ...               5.0   \n",
      "\n",
      "    PLAYER3_ID    PLAYER3_NAME  PLAYER3_TEAM_ID  PLAYER3_TEAM_CITY  \\\n",
      "0     101141.0  Ersan Ilyasova     1.610613e+09            Detroit   \n",
      "11    101141.0  Ersan Ilyasova     1.610613e+09            Detroit   \n",
      "22    101141.0  Ersan Ilyasova     1.610613e+09            Detroit   \n",
      "33    101141.0  Ersan Ilyasova     1.610613e+09            Detroit   \n",
      "44    101141.0  Ersan Ilyasova     1.610613e+09            Detroit   \n",
      "\n",
      "    PLAYER3_TEAM_NICKNAME  PLAYER3_TEAM_ABBREVIATION  of_def_flag  \\\n",
      "0                 Pistons                        DET          def   \n",
      "11                Pistons                        DET          def   \n",
      "22                Pistons                        DET          def   \n",
      "33                Pistons                        DET          def   \n",
      "44                Pistons                        DET          def   \n",
      "\n",
      "   team_in_possession        bigram  \n",
      "0          1610612737           NaN  \n",
      "11         1610612737  (12.0, 12.0)  \n",
      "22         1610612737  (12.0, 11.0)  \n",
      "33         1610612737  (11.0, 11.0)  \n",
      "44         1610612737  (11.0, 11.0)  \n",
      "\n",
      "[5 rows x 49 columns]\n"
     ]
    }
   ],
   "source": [
    "bigram_cts = None\n",
    "for n in g:\n",
    "    print(n)\n",
    "    df = pd.read_csv(n)\n",
    "    df = df.groupby('game_clock').apply(_get_pos_label)\n",
    "    df = df[df.player_id == -1]\n",
    "        \n",
    "    df_sorted = df.sort_values('game_clock')\n",
    "    df_sorted['court_location'] = df_sorted['court_location'].apply(lambda x: (x,) if x is not None else None)\n",
    "    df_balls = df_sorted[df_sorted.player_id == -1]\n",
    "    df_bigrams = df_balls.groupby(['event_id']).apply(_get_strides)\n",
    "    df = df_bigrams[['team_in_possession', 'bigram']]\n",
    "    print(df.head())\n",
    "    break\n",
    "\n",
    "    grouped = df_sorted.groupby(['game_clock'])\n",
    "#     df_sorted = grouped.apply(get_rel_tobball)\n",
    "# #     print(df_sorted['court_location'])\n",
    "#     df_sorted['player_ball'] = df_sorted['ball_loc']+df_sorted['court_location']\n",
    "#     df_sorted = df_sorted.groupby(['player_id', 'event_id']).apply(make_bigrams_player_ball)\n",
    "\n",
    "#     if bigram_cts is None:\n",
    "#         df_sorted = df_sorted[['player_id', 'GAME_ID',\n",
    "#                                 'bigram_player_ball']].dropna()\n",
    "#         df_sorted['bigram_player_ball_0'], df_sorted['bigram_player_ball_1'] = zip(*df_sorted['bigram_player_ball'].tolist())\n",
    "#         # need to split into indices since pandas can't handle nested tuples\n",
    "#         bigram_cts = df_sorted.groupby(['player_id', 'GAME_ID', 'bigram_player_ball_0', 'bigram_player_ball_1']).count()        \n",
    "#     else:\n",
    "#         df_sorted = df_sorted[['player_id', 'GAME_ID',\n",
    "#                                 'bigram_player_ball']].dropna()\n",
    "#         df_sorted['bigram_player_ball_0'], df_sorted['bigram_player_ball_1'] = zip(*df_sorted['bigram_player_ball'].tolist())\n",
    "#         _cts = df_sorted.groupby(['player_id', 'GAME_ID', 'bigram_player_ball_0', 'bigram_player_ball_1']).count()\n",
    "#         bigram_cts = bigram_cts.add(_cts, fill_value=0.0)\n",
    "#         print(len(bigram_cts.index))\n",
    "        \n",
    "#     del df\n",
    "\n",
    "    "
   ]
  },
  {
   "cell_type": "code",
   "execution_count": null,
   "metadata": {},
   "outputs": [],
   "source": []
  }
 ],
 "metadata": {
  "kernelspec": {
   "display_name": "data_cleaning",
   "language": "python",
   "name": "data_cleaning"
  },
  "language_info": {
   "codemirror_mode": {
    "name": "ipython",
    "version": 3
   },
   "file_extension": ".py",
   "mimetype": "text/x-python",
   "name": "python",
   "nbconvert_exporter": "python",
   "pygments_lexer": "ipython3",
   "version": "3.6.4"
  }
 },
 "nbformat": 4,
 "nbformat_minor": 2
}
