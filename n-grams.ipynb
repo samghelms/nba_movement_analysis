{
 "cells": [
  {
   "cell_type": "code",
   "execution_count": 139,
   "metadata": {},
   "outputs": [],
   "source": [
    "import pandas as pd"
   ]
  },
  {
   "cell_type": "code",
   "execution_count": 140,
   "metadata": {},
   "outputs": [],
   "source": [
    "import glob\n",
    "g = glob.glob('data/processed_games/[0-9]*.csv')\n",
    "# df = pd.concat([pd.read_csv(n) for n in g])"
   ]
  },
  {
   "cell_type": "code",
   "execution_count": 141,
   "metadata": {},
   "outputs": [],
   "source": [
    "def make_bigrams(g):\n",
    "    se = g.court_location.shift(1)+g.court_location\n",
    "    se = se.dropna()\n",
    "    return se"
   ]
  },
  {
   "cell_type": "code",
   "execution_count": 142,
   "metadata": {},
   "outputs": [],
   "source": [
    "# check out the number when we take in account player and basketball position\n",
    "def get_rel_tobball(g):\n",
    "    ball = g[g.team_id == -1]\n",
    "    try:\n",
    "        assert len(ball.index) == 1\n",
    "        se = [ball.court_location.iloc[0]]*len(g.index)\n",
    "    except:\n",
    "        se = None\n",
    "    g['ball_loc'] = se\n",
    "    return g\n",
    "\n",
    "# team_positions = grouped.apply(lambda x: get_rel_tobball(i, x, grouped))\n",
    "# print(grouped.groups.keys())\n",
    "# df_with_ball_loc['player_ball'] = df_with_ball_loc['ball_loc']+df_with_ball_loc['court_location']\n",
    "\n",
    "def make_bigrams_player_ball(g):\n",
    "    g['player_ball'] = g.player_ball.apply(lambda x: (x, ) if x is not None else None)\n",
    "    g['bigram_player_ball'] = g.player_ball.shift(1)+g.player_ball\n",
    "    return g\n",
    "\n",
    "def get_counts(g):\n",
    "    i, _g = g\n",
    "    vc = _g['bigram_player_ball'].value_counts()\n",
    "    index = pd.MultiIndex.from_tuples([i+(ind,) for ind in vc.index])\n",
    "    d = pd.DataFrame(vc.values, index=index)\n",
    "    return d\n"
   ]
  },
  {
   "cell_type": "code",
   "execution_count": 143,
   "metadata": {
    "scrolled": true
   },
   "outputs": [
    {
     "name": "stdout",
     "output_type": "stream",
     "text": [
      "data/processed_games/0021500001.csv\n",
      "data/processed_games/0021500002.csv\n",
      "12802\n",
      "data/processed_games/0021500003.csv\n",
      "19480\n",
      "data/processed_games/0021500004.csv\n",
      "26437\n",
      "data/processed_games/0021500005.csv\n",
      "32852\n",
      "data/processed_games/0021500007.csv\n",
      "39237\n",
      "data/processed_games/0021500009.csv\n",
      "45673\n",
      "data/processed_games/0021500010.csv\n",
      "51679\n",
      "data/processed_games/0021500011.csv\n",
      "58424\n",
      "data/processed_games/0021500012.csv\n",
      "65376\n",
      "data/processed_games/0021500013.csv\n",
      "71968\n",
      "data/processed_games/0021500015.csv\n",
      "78796\n",
      "data/processed_games/0021500016.csv\n",
      "85518\n",
      "data/processed_games/0021500017.csv\n",
      "92139\n",
      "data/processed_games/0021500018.csv\n",
      "98441\n",
      "data/processed_games/0021500019.csv\n",
      "105048\n",
      "data/processed_games/0021500020.csv\n",
      "111955\n",
      "data/processed_games/0021500021.csv\n",
      "118360\n",
      "data/processed_games/0021500022.csv\n",
      "123769\n",
      "data/processed_games/0021500023.csv\n",
      "130276\n",
      "data/processed_games/0021500024.csv\n",
      "136973\n",
      "data/processed_games/0021500025.csv\n",
      "143132\n",
      "data/processed_games/0021500027.csv\n",
      "150012\n",
      "data/processed_games/0021500028.csv\n",
      "156423\n",
      "data/processed_games/0021500029.csv\n",
      "162841\n",
      "data/processed_games/0021500031.csv\n",
      "169380\n",
      "data/processed_games/0021500033.csv\n",
      "176128\n",
      "data/processed_games/0021500034.csv\n",
      "182496\n",
      "data/processed_games/0021500035.csv\n",
      "188634\n",
      "data/processed_games/0021500036.csv\n",
      "194899\n",
      "data/processed_games/0021500037.csv\n",
      "200947\n",
      "data/processed_games/0021500038.csv\n",
      "207689\n",
      "data/processed_games/0021500039.csv\n",
      "214330\n",
      "data/processed_games/0021500040.csv\n",
      "221056\n",
      "data/processed_games/0021500041.csv\n",
      "227590\n",
      "data/processed_games/0021500042.csv\n",
      "234009\n",
      "data/processed_games/0021500043.csv\n",
      "240513\n",
      "data/processed_games/0021500044.csv\n",
      "247074\n",
      "data/processed_games/0021500045.csv\n",
      "253395\n",
      "data/processed_games/0021500046.csv\n",
      "259876\n",
      "data/processed_games/0021500047.csv\n",
      "266054\n",
      "data/processed_games/0021500048.csv\n",
      "272928\n",
      "data/processed_games/0021500049.csv\n",
      "278811\n",
      "data/processed_games/0021500050.csv\n",
      "285265\n",
      "data/processed_games/0021500051.csv\n",
      "291774\n",
      "data/processed_games/0021500052.csv\n",
      "298167\n",
      "data/processed_games/0021500053.csv\n",
      "304697\n",
      "data/processed_games/0021500054.csv\n",
      "310298\n",
      "data/processed_games/0021500055.csv\n",
      "316879\n",
      "data/processed_games/0021500056.csv\n",
      "323664\n",
      "data/processed_games/0021500057.csv\n",
      "329469\n",
      "data/processed_games/0021500058.csv\n",
      "335657\n",
      "data/processed_games/0021500059.csv\n",
      "342395\n",
      "data/processed_games/0021500060.csv\n",
      "348145\n",
      "data/processed_games/0021500061.csv\n",
      "353923\n",
      "data/processed_games/0021500062.csv\n",
      "360784\n",
      "data/processed_games/0021500063.csv\n",
      "366136\n",
      "data/processed_games/0021500064.csv\n",
      "372934\n",
      "data/processed_games/0021500065.csv\n",
      "379302\n",
      "data/processed_games/0021500066.csv\n",
      "385309\n",
      "data/processed_games/0021500067.csv\n",
      "391301\n",
      "data/processed_games/0021500068.csv\n",
      "398264\n",
      "data/processed_games/0021500069.csv\n",
      "404876\n",
      "data/processed_games/0021500070.csv\n",
      "410590\n",
      "data/processed_games/0021500071.csv\n",
      "417124\n",
      "data/processed_games/0021500072.csv\n",
      "423871\n",
      "data/processed_games/0021500073.csv\n",
      "430058\n",
      "data/processed_games/0021500074.csv\n",
      "436343\n",
      "data/processed_games/0021500075.csv\n",
      "442314\n",
      "data/processed_games/0021500076.csv\n",
      "448699\n",
      "data/processed_games/0021500077.csv\n",
      "455252\n",
      "data/processed_games/0021500078.csv\n",
      "461140\n",
      "data/processed_games/0021500079.csv\n",
      "468124\n",
      "data/processed_games/0021500080.csv\n",
      "473827\n",
      "data/processed_games/0021500081.csv\n",
      "480223\n",
      "data/processed_games/0021500082.csv\n",
      "486170\n",
      "data/processed_games/0021500083.csv\n",
      "492559\n",
      "data/processed_games/0021500085.csv\n",
      "499200\n",
      "data/processed_games/0021500086.csv\n",
      "505423\n",
      "data/processed_games/0021500087.csv\n",
      "512229\n",
      "data/processed_games/0021500088.csv\n",
      "518495\n",
      "data/processed_games/0021500089.csv\n",
      "524576\n",
      "data/processed_games/0021500090.csv\n",
      "530053\n",
      "data/processed_games/0021500091.csv\n",
      "536445\n",
      "data/processed_games/0021500093.csv\n",
      "542637\n",
      "data/processed_games/0021500094.csv\n",
      "549265\n",
      "data/processed_games/0021500095.csv\n",
      "556278\n",
      "data/processed_games/0021500096.csv\n",
      "562581\n",
      "data/processed_games/0021500097.csv\n",
      "568828\n",
      "data/processed_games/0021500098.csv\n",
      "575018\n",
      "data/processed_games/0021500099.csv\n",
      "581557\n",
      "data/processed_games/0021500101.csv\n",
      "588367\n",
      "data/processed_games/0021500102.csv\n",
      "592771\n",
      "data/processed_games/0021500103.csv\n",
      "599705\n",
      "data/processed_games/0021500104.csv\n",
      "605905\n",
      "data/processed_games/0021500105.csv\n",
      "612560\n",
      "data/processed_games/0021500106.csv\n",
      "618734\n",
      "data/processed_games/0021500107.csv\n",
      "624131\n",
      "data/processed_games/0021500108.csv\n",
      "630467\n",
      "data/processed_games/0021500109.csv\n",
      "637229\n",
      "data/processed_games/0021500110.csv\n",
      "644088\n",
      "data/processed_games/0021500111.csv\n",
      "650609\n",
      "data/processed_games/0021500112.csv\n",
      "657380\n",
      "data/processed_games/0021500113.csv\n",
      "663964\n",
      "data/processed_games/0021500114.csv\n",
      "670739\n",
      "data/processed_games/0021500115.csv\n",
      "676993\n",
      "data/processed_games/0021500116.csv\n",
      "683733\n",
      "data/processed_games/0021500117.csv\n",
      "685279\n",
      "data/processed_games/0021500118.csv\n",
      "691562\n",
      "data/processed_games/0021500119.csv\n",
      "698136\n",
      "data/processed_games/0021500120.csv\n",
      "704808\n",
      "data/processed_games/0021500121.csv\n",
      "710906\n",
      "data/processed_games/0021500122.csv\n",
      "716934\n",
      "data/processed_games/0021500123.csv\n",
      "723527\n",
      "data/processed_games/0021500124.csv\n",
      "730374\n",
      "data/processed_games/0021500125.csv\n",
      "736532\n",
      "data/processed_games/0021500126.csv\n",
      "743040\n",
      "data/processed_games/0021500127.csv\n",
      "749335\n",
      "data/processed_games/0021500128.csv\n",
      "756153\n",
      "data/processed_games/0021500129.csv\n",
      "762803\n",
      "data/processed_games/0021500130.csv\n",
      "769322\n",
      "data/processed_games/0021500131.csv\n",
      "775375\n",
      "data/processed_games/0021500132.csv\n",
      "782099\n",
      "data/processed_games/0021500133.csv\n",
      "788899\n",
      "data/processed_games/0021500134.csv\n",
      "795355\n",
      "data/processed_games/0021500135.csv\n",
      "802114\n",
      "data/processed_games/0021500136.csv\n",
      "808828\n",
      "data/processed_games/0021500137.csv\n"
     ]
    },
    {
     "ename": "ValueError",
     "evalue": "setting an array element with a sequence.",
     "output_type": "error",
     "traceback": [
      "\u001b[0;31m---------------------------------------------------------------------------\u001b[0m",
      "\u001b[0;31mValueError\u001b[0m                                Traceback (most recent call last)",
      "\u001b[0;32m<ipython-input-143-1f010291665e>\u001b[0m in \u001b[0;36m<module>\u001b[0;34m()\u001b[0m\n\u001b[1;32m     21\u001b[0m         df_sorted = df_sorted[['player_id', 'GAME_ID',\n\u001b[1;32m     22\u001b[0m                                 'bigram_player_ball']].dropna()\n\u001b[0;32m---> 23\u001b[0;31m         \u001b[0mdf_sorted\u001b[0m\u001b[0;34m[\u001b[0m\u001b[0;34m'bigram_player_ball_0'\u001b[0m\u001b[0;34m]\u001b[0m\u001b[0;34m,\u001b[0m \u001b[0mdf_sorted\u001b[0m\u001b[0;34m[\u001b[0m\u001b[0;34m'bigram_player_ball_1'\u001b[0m\u001b[0;34m]\u001b[0m \u001b[0;34m=\u001b[0m \u001b[0mzip\u001b[0m\u001b[0;34m(\u001b[0m\u001b[0;34m*\u001b[0m\u001b[0mdf_sorted\u001b[0m\u001b[0;34m[\u001b[0m\u001b[0;34m'bigram_player_ball'\u001b[0m\u001b[0;34m]\u001b[0m\u001b[0;34m.\u001b[0m\u001b[0mtolist\u001b[0m\u001b[0;34m(\u001b[0m\u001b[0;34m)\u001b[0m\u001b[0;34m)\u001b[0m\u001b[0;34m\u001b[0m\u001b[0m\n\u001b[0m\u001b[1;32m     24\u001b[0m         \u001b[0m_cts\u001b[0m \u001b[0;34m=\u001b[0m \u001b[0mdf_sorted\u001b[0m\u001b[0;34m.\u001b[0m\u001b[0mgroupby\u001b[0m\u001b[0;34m(\u001b[0m\u001b[0;34m[\u001b[0m\u001b[0;34m'player_id'\u001b[0m\u001b[0;34m,\u001b[0m \u001b[0;34m'GAME_ID'\u001b[0m\u001b[0;34m,\u001b[0m \u001b[0;34m'bigram_player_ball_0'\u001b[0m\u001b[0;34m,\u001b[0m \u001b[0;34m'bigram_player_ball_1'\u001b[0m\u001b[0;34m]\u001b[0m\u001b[0;34m)\u001b[0m\u001b[0;34m.\u001b[0m\u001b[0mcount\u001b[0m\u001b[0;34m(\u001b[0m\u001b[0;34m)\u001b[0m\u001b[0;34m\u001b[0m\u001b[0m\n\u001b[1;32m     25\u001b[0m         \u001b[0mbigram_cts\u001b[0m \u001b[0;34m=\u001b[0m \u001b[0mbigram_cts\u001b[0m\u001b[0;34m.\u001b[0m\u001b[0madd\u001b[0m\u001b[0;34m(\u001b[0m\u001b[0m_cts\u001b[0m\u001b[0;34m,\u001b[0m \u001b[0mfill_value\u001b[0m\u001b[0;34m=\u001b[0m\u001b[0;36m0.0\u001b[0m\u001b[0;34m)\u001b[0m\u001b[0;34m\u001b[0m\u001b[0m\n",
      "\u001b[0;32m~/miniconda3/envs/data_cleaning/lib/python3.6/site-packages/pandas/core/frame.py\u001b[0m in \u001b[0;36m__setitem__\u001b[0;34m(self, key, value)\u001b[0m\n\u001b[1;32m   2517\u001b[0m         \u001b[0;32melse\u001b[0m\u001b[0;34m:\u001b[0m\u001b[0;34m\u001b[0m\u001b[0m\n\u001b[1;32m   2518\u001b[0m             \u001b[0;31m# set column\u001b[0m\u001b[0;34m\u001b[0m\u001b[0;34m\u001b[0m\u001b[0m\n\u001b[0;32m-> 2519\u001b[0;31m             \u001b[0mself\u001b[0m\u001b[0;34m.\u001b[0m\u001b[0m_set_item\u001b[0m\u001b[0;34m(\u001b[0m\u001b[0mkey\u001b[0m\u001b[0;34m,\u001b[0m \u001b[0mvalue\u001b[0m\u001b[0;34m)\u001b[0m\u001b[0;34m\u001b[0m\u001b[0m\n\u001b[0m\u001b[1;32m   2520\u001b[0m \u001b[0;34m\u001b[0m\u001b[0m\n\u001b[1;32m   2521\u001b[0m     \u001b[0;32mdef\u001b[0m \u001b[0m_setitem_slice\u001b[0m\u001b[0;34m(\u001b[0m\u001b[0mself\u001b[0m\u001b[0;34m,\u001b[0m \u001b[0mkey\u001b[0m\u001b[0;34m,\u001b[0m \u001b[0mvalue\u001b[0m\u001b[0;34m)\u001b[0m\u001b[0;34m:\u001b[0m\u001b[0;34m\u001b[0m\u001b[0m\n",
      "\u001b[0;32m~/miniconda3/envs/data_cleaning/lib/python3.6/site-packages/pandas/core/frame.py\u001b[0m in \u001b[0;36m_set_item\u001b[0;34m(self, key, value)\u001b[0m\n\u001b[1;32m   2583\u001b[0m \u001b[0;34m\u001b[0m\u001b[0m\n\u001b[1;32m   2584\u001b[0m         \u001b[0mself\u001b[0m\u001b[0;34m.\u001b[0m\u001b[0m_ensure_valid_index\u001b[0m\u001b[0;34m(\u001b[0m\u001b[0mvalue\u001b[0m\u001b[0;34m)\u001b[0m\u001b[0;34m\u001b[0m\u001b[0m\n\u001b[0;32m-> 2585\u001b[0;31m         \u001b[0mvalue\u001b[0m \u001b[0;34m=\u001b[0m \u001b[0mself\u001b[0m\u001b[0;34m.\u001b[0m\u001b[0m_sanitize_column\u001b[0m\u001b[0;34m(\u001b[0m\u001b[0mkey\u001b[0m\u001b[0;34m,\u001b[0m \u001b[0mvalue\u001b[0m\u001b[0;34m)\u001b[0m\u001b[0;34m\u001b[0m\u001b[0m\n\u001b[0m\u001b[1;32m   2586\u001b[0m         \u001b[0mNDFrame\u001b[0m\u001b[0;34m.\u001b[0m\u001b[0m_set_item\u001b[0m\u001b[0;34m(\u001b[0m\u001b[0mself\u001b[0m\u001b[0;34m,\u001b[0m \u001b[0mkey\u001b[0m\u001b[0;34m,\u001b[0m \u001b[0mvalue\u001b[0m\u001b[0;34m)\u001b[0m\u001b[0;34m\u001b[0m\u001b[0m\n\u001b[1;32m   2587\u001b[0m \u001b[0;34m\u001b[0m\u001b[0m\n",
      "\u001b[0;32m~/miniconda3/envs/data_cleaning/lib/python3.6/site-packages/pandas/core/frame.py\u001b[0m in \u001b[0;36m_sanitize_column\u001b[0;34m(self, key, value, broadcast)\u001b[0m\n\u001b[1;32m   2763\u001b[0m                     \u001b[0mvalue\u001b[0m \u001b[0;34m=\u001b[0m \u001b[0mmaybe_convert_platform\u001b[0m\u001b[0;34m(\u001b[0m\u001b[0mvalue\u001b[0m\u001b[0;34m)\u001b[0m\u001b[0;34m\u001b[0m\u001b[0m\n\u001b[1;32m   2764\u001b[0m                 \u001b[0;32melse\u001b[0m\u001b[0;34m:\u001b[0m\u001b[0;34m\u001b[0m\u001b[0m\n\u001b[0;32m-> 2765\u001b[0;31m                     \u001b[0mvalue\u001b[0m \u001b[0;34m=\u001b[0m \u001b[0mcom\u001b[0m\u001b[0;34m.\u001b[0m\u001b[0m_asarray_tuplesafe\u001b[0m\u001b[0;34m(\u001b[0m\u001b[0mvalue\u001b[0m\u001b[0;34m)\u001b[0m\u001b[0;34m\u001b[0m\u001b[0m\n\u001b[0m\u001b[1;32m   2766\u001b[0m             \u001b[0;32melif\u001b[0m \u001b[0mvalue\u001b[0m\u001b[0;34m.\u001b[0m\u001b[0mndim\u001b[0m \u001b[0;34m==\u001b[0m \u001b[0;36m2\u001b[0m\u001b[0;34m:\u001b[0m\u001b[0;34m\u001b[0m\u001b[0m\n\u001b[1;32m   2767\u001b[0m                 \u001b[0mvalue\u001b[0m \u001b[0;34m=\u001b[0m \u001b[0mvalue\u001b[0m\u001b[0;34m.\u001b[0m\u001b[0mcopy\u001b[0m\u001b[0;34m(\u001b[0m\u001b[0;34m)\u001b[0m\u001b[0;34m.\u001b[0m\u001b[0mT\u001b[0m\u001b[0;34m\u001b[0m\u001b[0m\n",
      "\u001b[0;32m~/miniconda3/envs/data_cleaning/lib/python3.6/site-packages/pandas/core/common.py\u001b[0m in \u001b[0;36m_asarray_tuplesafe\u001b[0;34m(values, dtype)\u001b[0m\n\u001b[1;32m    384\u001b[0m         \u001b[0;32mreturn\u001b[0m \u001b[0mlib\u001b[0m\u001b[0;34m.\u001b[0m\u001b[0mlist_to_object_array\u001b[0m\u001b[0;34m(\u001b[0m\u001b[0mvalues\u001b[0m\u001b[0;34m)\u001b[0m\u001b[0;34m\u001b[0m\u001b[0m\n\u001b[1;32m    385\u001b[0m \u001b[0;34m\u001b[0m\u001b[0m\n\u001b[0;32m--> 386\u001b[0;31m     \u001b[0mresult\u001b[0m \u001b[0;34m=\u001b[0m \u001b[0mnp\u001b[0m\u001b[0;34m.\u001b[0m\u001b[0masarray\u001b[0m\u001b[0;34m(\u001b[0m\u001b[0mvalues\u001b[0m\u001b[0;34m,\u001b[0m \u001b[0mdtype\u001b[0m\u001b[0;34m=\u001b[0m\u001b[0mdtype\u001b[0m\u001b[0;34m)\u001b[0m\u001b[0;34m\u001b[0m\u001b[0m\n\u001b[0m\u001b[1;32m    387\u001b[0m \u001b[0;34m\u001b[0m\u001b[0m\n\u001b[1;32m    388\u001b[0m     \u001b[0;32mif\u001b[0m \u001b[0missubclass\u001b[0m\u001b[0;34m(\u001b[0m\u001b[0mresult\u001b[0m\u001b[0;34m.\u001b[0m\u001b[0mdtype\u001b[0m\u001b[0;34m.\u001b[0m\u001b[0mtype\u001b[0m\u001b[0;34m,\u001b[0m \u001b[0mcompat\u001b[0m\u001b[0;34m.\u001b[0m\u001b[0mstring_types\u001b[0m\u001b[0;34m)\u001b[0m\u001b[0;34m:\u001b[0m\u001b[0;34m\u001b[0m\u001b[0m\n",
      "\u001b[0;32m~/miniconda3/envs/data_cleaning/lib/python3.6/site-packages/numpy/core/numeric.py\u001b[0m in \u001b[0;36masarray\u001b[0;34m(a, dtype, order)\u001b[0m\n\u001b[1;32m    490\u001b[0m \u001b[0;34m\u001b[0m\u001b[0m\n\u001b[1;32m    491\u001b[0m     \"\"\"\n\u001b[0;32m--> 492\u001b[0;31m     \u001b[0;32mreturn\u001b[0m \u001b[0marray\u001b[0m\u001b[0;34m(\u001b[0m\u001b[0ma\u001b[0m\u001b[0;34m,\u001b[0m \u001b[0mdtype\u001b[0m\u001b[0;34m,\u001b[0m \u001b[0mcopy\u001b[0m\u001b[0;34m=\u001b[0m\u001b[0;32mFalse\u001b[0m\u001b[0;34m,\u001b[0m \u001b[0morder\u001b[0m\u001b[0;34m=\u001b[0m\u001b[0morder\u001b[0m\u001b[0;34m)\u001b[0m\u001b[0;34m\u001b[0m\u001b[0m\n\u001b[0m\u001b[1;32m    493\u001b[0m \u001b[0;34m\u001b[0m\u001b[0m\n\u001b[1;32m    494\u001b[0m \u001b[0;34m\u001b[0m\u001b[0m\n",
      "\u001b[0;31mValueError\u001b[0m: setting an array element with a sequence."
     ]
    }
   ],
   "source": [
    "bigram_cts = None\n",
    "for n in g:\n",
    "    print (n)\n",
    "    df = pd.read_csv(n)\n",
    "    df_sorted = df.sort_values('game_clock')\n",
    "    df_sorted['court_location'] = df_sorted['court_location'].apply(lambda x: (x,) if x is not None else None)\n",
    "\n",
    "    grouped = df_sorted.groupby(['game_clock'])\n",
    "    df_sorted = grouped.apply(get_rel_tobball)\n",
    "#     print(df_sorted['court_location'])\n",
    "    df_sorted['player_ball'] = df_sorted['ball_loc']+df_sorted['court_location']\n",
    "    df_sorted = df_sorted.groupby(['player_id', 'event_id']).apply(make_bigrams_player_ball)\n",
    "\n",
    "    if bigram_cts is None:\n",
    "        df_sorted = df_sorted[['player_id', 'GAME_ID',\n",
    "                                'bigram_player_ball']].dropna()\n",
    "        df_sorted['bigram_player_ball_0'], df_sorted['bigram_player_ball_1'] = zip(*df_sorted['bigram_player_ball'].tolist())\n",
    "        # need to split into indices since pandas can't handle nested tuples\n",
    "        bigram_cts = df_sorted.groupby(['player_id', 'GAME_ID', 'bigram_player_ball_0', 'bigram_player_ball_1']).count()        \n",
    "    else:\n",
    "        df_sorted = df_sorted[['player_id', 'GAME_ID',\n",
    "                                'bigram_player_ball']].dropna()\n",
    "        df_sorted['bigram_player_ball_0'], df_sorted['bigram_player_ball_1'] = zip(*df_sorted['bigram_player_ball'].tolist())\n",
    "        _cts = df_sorted.groupby(['player_id', 'GAME_ID', 'bigram_player_ball_0', 'bigram_player_ball_1']).count()\n",
    "        bigram_cts = bigram_cts.add(_cts, fill_value=0.0)\n",
    "        print(len(bigram_cts.index))\n",
    "        \n",
    "    del df\n",
    "\n",
    "    "
   ]
  },
  {
   "cell_type": "code",
   "execution_count": null,
   "metadata": {},
   "outputs": [],
   "source": [
    "bigram_cts.to_csv(\"data/bigram_cts.csv\")"
   ]
  },
  {
   "cell_type": "code",
   "execution_count": 9,
   "metadata": {},
   "outputs": [],
   "source": [
    "df = df[['player_id', 'event_id', 'court_location', 'game_clock']]"
   ]
  },
  {
   "cell_type": "code",
   "execution_count": 10,
   "metadata": {},
   "outputs": [],
   "source": [
    "df_sorted = df.sort_values('game_clock')"
   ]
  },
  {
   "cell_type": "code",
   "execution_count": 11,
   "metadata": {},
   "outputs": [],
   "source": [
    "del df"
   ]
  },
  {
   "cell_type": "code",
   "execution_count": 12,
   "metadata": {},
   "outputs": [],
   "source": [
    "df_sorted['court_location'] = df_sorted['court_location'].apply(lambda x: (x,))\n",
    "# df_sorted['court_location'].value_counts()\n",
    "# df_sorted['court_location']"
   ]
  },
  {
   "cell_type": "code",
   "execution_count": 14,
   "metadata": {
    "scrolled": true
   },
   "outputs": [
    {
     "ename": "KeyboardInterrupt",
     "evalue": "",
     "output_type": "error",
     "traceback": [
      "\u001b[0;31m---------------------------------------------------------------------------\u001b[0m",
      "\u001b[0;31mKeyboardInterrupt\u001b[0m                         Traceback (most recent call last)",
      "\u001b[0;32m<ipython-input-14-ad6cef18deeb>\u001b[0m in \u001b[0;36m<module>\u001b[0;34m()\u001b[0m\n\u001b[1;32m      4\u001b[0m \u001b[0;34m\u001b[0m\u001b[0m\n\u001b[1;32m      5\u001b[0m df_sorted['bigrams'] = df_sorted.groupby(\n\u001b[0;32m----> 6\u001b[0;31m           ['player_id', 'event_id']).apply(make_bigrams).reset_index(['event_id', 'player_id'])['court_location']\n\u001b[0m",
      "\u001b[0;32m~/miniconda3/envs/data_cleaning/lib/python3.6/site-packages/pandas/core/frame.py\u001b[0m in \u001b[0;36m__setitem__\u001b[0;34m(self, key, value)\u001b[0m\n\u001b[1;32m   2517\u001b[0m         \u001b[0;32melse\u001b[0m\u001b[0;34m:\u001b[0m\u001b[0;34m\u001b[0m\u001b[0m\n\u001b[1;32m   2518\u001b[0m             \u001b[0;31m# set column\u001b[0m\u001b[0;34m\u001b[0m\u001b[0;34m\u001b[0m\u001b[0m\n\u001b[0;32m-> 2519\u001b[0;31m             \u001b[0mself\u001b[0m\u001b[0;34m.\u001b[0m\u001b[0m_set_item\u001b[0m\u001b[0;34m(\u001b[0m\u001b[0mkey\u001b[0m\u001b[0;34m,\u001b[0m \u001b[0mvalue\u001b[0m\u001b[0;34m)\u001b[0m\u001b[0;34m\u001b[0m\u001b[0m\n\u001b[0m\u001b[1;32m   2520\u001b[0m \u001b[0;34m\u001b[0m\u001b[0m\n\u001b[1;32m   2521\u001b[0m     \u001b[0;32mdef\u001b[0m \u001b[0m_setitem_slice\u001b[0m\u001b[0;34m(\u001b[0m\u001b[0mself\u001b[0m\u001b[0;34m,\u001b[0m \u001b[0mkey\u001b[0m\u001b[0;34m,\u001b[0m \u001b[0mvalue\u001b[0m\u001b[0;34m)\u001b[0m\u001b[0;34m:\u001b[0m\u001b[0;34m\u001b[0m\u001b[0m\n",
      "\u001b[0;32m~/miniconda3/envs/data_cleaning/lib/python3.6/site-packages/pandas/core/frame.py\u001b[0m in \u001b[0;36m_set_item\u001b[0;34m(self, key, value)\u001b[0m\n\u001b[1;32m   2583\u001b[0m \u001b[0;34m\u001b[0m\u001b[0m\n\u001b[1;32m   2584\u001b[0m         \u001b[0mself\u001b[0m\u001b[0;34m.\u001b[0m\u001b[0m_ensure_valid_index\u001b[0m\u001b[0;34m(\u001b[0m\u001b[0mvalue\u001b[0m\u001b[0;34m)\u001b[0m\u001b[0;34m\u001b[0m\u001b[0m\n\u001b[0;32m-> 2585\u001b[0;31m         \u001b[0mvalue\u001b[0m \u001b[0;34m=\u001b[0m \u001b[0mself\u001b[0m\u001b[0;34m.\u001b[0m\u001b[0m_sanitize_column\u001b[0m\u001b[0;34m(\u001b[0m\u001b[0mkey\u001b[0m\u001b[0;34m,\u001b[0m \u001b[0mvalue\u001b[0m\u001b[0;34m)\u001b[0m\u001b[0;34m\u001b[0m\u001b[0m\n\u001b[0m\u001b[1;32m   2586\u001b[0m         \u001b[0mNDFrame\u001b[0m\u001b[0;34m.\u001b[0m\u001b[0m_set_item\u001b[0m\u001b[0;34m(\u001b[0m\u001b[0mself\u001b[0m\u001b[0;34m,\u001b[0m \u001b[0mkey\u001b[0m\u001b[0;34m,\u001b[0m \u001b[0mvalue\u001b[0m\u001b[0;34m)\u001b[0m\u001b[0;34m\u001b[0m\u001b[0m\n\u001b[1;32m   2587\u001b[0m \u001b[0;34m\u001b[0m\u001b[0m\n",
      "\u001b[0;32m~/miniconda3/envs/data_cleaning/lib/python3.6/site-packages/pandas/core/frame.py\u001b[0m in \u001b[0;36m_sanitize_column\u001b[0;34m(self, key, value, broadcast)\u001b[0m\n\u001b[1;32m   2737\u001b[0m \u001b[0;34m\u001b[0m\u001b[0m\n\u001b[1;32m   2738\u001b[0m         \u001b[0;32mif\u001b[0m \u001b[0misinstance\u001b[0m\u001b[0;34m(\u001b[0m\u001b[0mvalue\u001b[0m\u001b[0;34m,\u001b[0m \u001b[0mSeries\u001b[0m\u001b[0;34m)\u001b[0m\u001b[0;34m:\u001b[0m\u001b[0;34m\u001b[0m\u001b[0m\n\u001b[0;32m-> 2739\u001b[0;31m             \u001b[0mvalue\u001b[0m \u001b[0;34m=\u001b[0m \u001b[0mreindexer\u001b[0m\u001b[0;34m(\u001b[0m\u001b[0mvalue\u001b[0m\u001b[0;34m)\u001b[0m\u001b[0;34m\u001b[0m\u001b[0m\n\u001b[0m\u001b[1;32m   2740\u001b[0m \u001b[0;34m\u001b[0m\u001b[0m\n\u001b[1;32m   2741\u001b[0m         \u001b[0;32melif\u001b[0m \u001b[0misinstance\u001b[0m\u001b[0;34m(\u001b[0m\u001b[0mvalue\u001b[0m\u001b[0;34m,\u001b[0m \u001b[0mDataFrame\u001b[0m\u001b[0;34m)\u001b[0m\u001b[0;34m:\u001b[0m\u001b[0;34m\u001b[0m\u001b[0m\n",
      "\u001b[0;32m~/miniconda3/envs/data_cleaning/lib/python3.6/site-packages/pandas/core/frame.py\u001b[0m in \u001b[0;36mreindexer\u001b[0;34m(value)\u001b[0m\n\u001b[1;32m   2724\u001b[0m                 \u001b[0;31m# GH 4107\u001b[0m\u001b[0;34m\u001b[0m\u001b[0;34m\u001b[0m\u001b[0m\n\u001b[1;32m   2725\u001b[0m                 \u001b[0;32mtry\u001b[0m\u001b[0;34m:\u001b[0m\u001b[0;34m\u001b[0m\u001b[0m\n\u001b[0;32m-> 2726\u001b[0;31m                     \u001b[0mvalue\u001b[0m \u001b[0;34m=\u001b[0m \u001b[0mvalue\u001b[0m\u001b[0;34m.\u001b[0m\u001b[0mreindex\u001b[0m\u001b[0;34m(\u001b[0m\u001b[0mself\u001b[0m\u001b[0;34m.\u001b[0m\u001b[0mindex\u001b[0m\u001b[0;34m)\u001b[0m\u001b[0;34m.\u001b[0m\u001b[0m_values\u001b[0m\u001b[0;34m\u001b[0m\u001b[0m\n\u001b[0m\u001b[1;32m   2727\u001b[0m                 \u001b[0;32mexcept\u001b[0m \u001b[0mException\u001b[0m \u001b[0;32mas\u001b[0m \u001b[0me\u001b[0m\u001b[0;34m:\u001b[0m\u001b[0;34m\u001b[0m\u001b[0m\n\u001b[1;32m   2728\u001b[0m \u001b[0;34m\u001b[0m\u001b[0m\n",
      "\u001b[0;32m~/miniconda3/envs/data_cleaning/lib/python3.6/site-packages/pandas/core/series.py\u001b[0m in \u001b[0;36mreindex\u001b[0;34m(self, index, **kwargs)\u001b[0m\n\u001b[1;32m   2679\u001b[0m     \u001b[0;34m@\u001b[0m\u001b[0mAppender\u001b[0m\u001b[0;34m(\u001b[0m\u001b[0mgeneric\u001b[0m\u001b[0;34m.\u001b[0m\u001b[0m_shared_docs\u001b[0m\u001b[0;34m[\u001b[0m\u001b[0;34m'reindex'\u001b[0m\u001b[0;34m]\u001b[0m \u001b[0;34m%\u001b[0m \u001b[0m_shared_doc_kwargs\u001b[0m\u001b[0;34m)\u001b[0m\u001b[0;34m\u001b[0m\u001b[0m\n\u001b[1;32m   2680\u001b[0m     \u001b[0;32mdef\u001b[0m \u001b[0mreindex\u001b[0m\u001b[0;34m(\u001b[0m\u001b[0mself\u001b[0m\u001b[0;34m,\u001b[0m \u001b[0mindex\u001b[0m\u001b[0;34m=\u001b[0m\u001b[0;32mNone\u001b[0m\u001b[0;34m,\u001b[0m \u001b[0;34m**\u001b[0m\u001b[0mkwargs\u001b[0m\u001b[0;34m)\u001b[0m\u001b[0;34m:\u001b[0m\u001b[0;34m\u001b[0m\u001b[0m\n\u001b[0;32m-> 2681\u001b[0;31m         \u001b[0;32mreturn\u001b[0m \u001b[0msuper\u001b[0m\u001b[0;34m(\u001b[0m\u001b[0mSeries\u001b[0m\u001b[0;34m,\u001b[0m \u001b[0mself\u001b[0m\u001b[0;34m)\u001b[0m\u001b[0;34m.\u001b[0m\u001b[0mreindex\u001b[0m\u001b[0;34m(\u001b[0m\u001b[0mindex\u001b[0m\u001b[0;34m=\u001b[0m\u001b[0mindex\u001b[0m\u001b[0;34m,\u001b[0m \u001b[0;34m**\u001b[0m\u001b[0mkwargs\u001b[0m\u001b[0;34m)\u001b[0m\u001b[0;34m\u001b[0m\u001b[0m\n\u001b[0m\u001b[1;32m   2682\u001b[0m \u001b[0;34m\u001b[0m\u001b[0m\n\u001b[1;32m   2683\u001b[0m     \u001b[0;34m@\u001b[0m\u001b[0mAppender\u001b[0m\u001b[0;34m(\u001b[0m\u001b[0mgeneric\u001b[0m\u001b[0;34m.\u001b[0m\u001b[0m_shared_docs\u001b[0m\u001b[0;34m[\u001b[0m\u001b[0;34m'fillna'\u001b[0m\u001b[0;34m]\u001b[0m \u001b[0;34m%\u001b[0m \u001b[0m_shared_doc_kwargs\u001b[0m\u001b[0;34m)\u001b[0m\u001b[0;34m\u001b[0m\u001b[0m\n",
      "\u001b[0;32m~/miniconda3/envs/data_cleaning/lib/python3.6/site-packages/pandas/core/generic.py\u001b[0m in \u001b[0;36mreindex\u001b[0;34m(self, *args, **kwargs)\u001b[0m\n\u001b[1;32m   3021\u001b[0m         \u001b[0;31m# perform the reindex on the axes\u001b[0m\u001b[0;34m\u001b[0m\u001b[0;34m\u001b[0m\u001b[0m\n\u001b[1;32m   3022\u001b[0m         return self._reindex_axes(axes, level, limit, tolerance, method,\n\u001b[0;32m-> 3023\u001b[0;31m                                   fill_value, copy).__finalize__(self)\n\u001b[0m\u001b[1;32m   3024\u001b[0m \u001b[0;34m\u001b[0m\u001b[0m\n\u001b[1;32m   3025\u001b[0m     def _reindex_axes(self, axes, level, limit, tolerance, method, fill_value,\n",
      "\u001b[0;32m~/miniconda3/envs/data_cleaning/lib/python3.6/site-packages/pandas/core/generic.py\u001b[0m in \u001b[0;36m_reindex_axes\u001b[0;34m(self, axes, level, limit, tolerance, method, fill_value, copy)\u001b[0m\n\u001b[1;32m   3034\u001b[0m             \u001b[0max\u001b[0m \u001b[0;34m=\u001b[0m \u001b[0mself\u001b[0m\u001b[0;34m.\u001b[0m\u001b[0m_get_axis\u001b[0m\u001b[0;34m(\u001b[0m\u001b[0ma\u001b[0m\u001b[0;34m)\u001b[0m\u001b[0;34m\u001b[0m\u001b[0m\n\u001b[1;32m   3035\u001b[0m             new_index, indexer = ax.reindex(labels, level=level, limit=limit,\n\u001b[0;32m-> 3036\u001b[0;31m                                             tolerance=tolerance, method=method)\n\u001b[0m\u001b[1;32m   3037\u001b[0m \u001b[0;34m\u001b[0m\u001b[0m\n\u001b[1;32m   3038\u001b[0m             \u001b[0maxis\u001b[0m \u001b[0;34m=\u001b[0m \u001b[0mself\u001b[0m\u001b[0;34m.\u001b[0m\u001b[0m_get_axis_number\u001b[0m\u001b[0;34m(\u001b[0m\u001b[0ma\u001b[0m\u001b[0;34m)\u001b[0m\u001b[0;34m\u001b[0m\u001b[0m\n",
      "\u001b[0;32m~/miniconda3/envs/data_cleaning/lib/python3.6/site-packages/pandas/core/indexes/base.py\u001b[0m in \u001b[0;36mreindex\u001b[0;34m(self, target, method, level, limit, tolerance)\u001b[0m\n\u001b[1;32m   2993\u001b[0m                         raise ValueError(\"cannot reindex a non-unique index \"\n\u001b[1;32m   2994\u001b[0m                                          \"with a method or limit\")\n\u001b[0;32m-> 2995\u001b[0;31m                     \u001b[0mindexer\u001b[0m\u001b[0;34m,\u001b[0m \u001b[0mmissing\u001b[0m \u001b[0;34m=\u001b[0m \u001b[0mself\u001b[0m\u001b[0;34m.\u001b[0m\u001b[0mget_indexer_non_unique\u001b[0m\u001b[0;34m(\u001b[0m\u001b[0mtarget\u001b[0m\u001b[0;34m)\u001b[0m\u001b[0;34m\u001b[0m\u001b[0m\n\u001b[0m\u001b[1;32m   2996\u001b[0m \u001b[0;34m\u001b[0m\u001b[0m\n\u001b[1;32m   2997\u001b[0m         \u001b[0;32mif\u001b[0m \u001b[0mpreserve_names\u001b[0m \u001b[0;32mand\u001b[0m \u001b[0mtarget\u001b[0m\u001b[0;34m.\u001b[0m\u001b[0mnlevels\u001b[0m \u001b[0;34m==\u001b[0m \u001b[0;36m1\u001b[0m \u001b[0;32mand\u001b[0m \u001b[0mtarget\u001b[0m\u001b[0;34m.\u001b[0m\u001b[0mname\u001b[0m \u001b[0;34m!=\u001b[0m \u001b[0mself\u001b[0m\u001b[0;34m.\u001b[0m\u001b[0mname\u001b[0m\u001b[0;34m:\u001b[0m\u001b[0;34m\u001b[0m\u001b[0m\n",
      "\u001b[0;32m~/miniconda3/envs/data_cleaning/lib/python3.6/site-packages/pandas/core/indexes/base.py\u001b[0m in \u001b[0;36mget_indexer_non_unique\u001b[0;34m(self, target)\u001b[0m\n\u001b[1;32m   2814\u001b[0m             \u001b[0mtgt_values\u001b[0m \u001b[0;34m=\u001b[0m \u001b[0mtarget\u001b[0m\u001b[0;34m.\u001b[0m\u001b[0m_values\u001b[0m\u001b[0;34m\u001b[0m\u001b[0m\n\u001b[1;32m   2815\u001b[0m \u001b[0;34m\u001b[0m\u001b[0m\n\u001b[0;32m-> 2816\u001b[0;31m         \u001b[0mindexer\u001b[0m\u001b[0;34m,\u001b[0m \u001b[0mmissing\u001b[0m \u001b[0;34m=\u001b[0m \u001b[0mself\u001b[0m\u001b[0;34m.\u001b[0m\u001b[0m_engine\u001b[0m\u001b[0;34m.\u001b[0m\u001b[0mget_indexer_non_unique\u001b[0m\u001b[0;34m(\u001b[0m\u001b[0mtgt_values\u001b[0m\u001b[0;34m)\u001b[0m\u001b[0;34m\u001b[0m\u001b[0m\n\u001b[0m\u001b[1;32m   2817\u001b[0m         \u001b[0;32mreturn\u001b[0m \u001b[0m_ensure_platform_int\u001b[0m\u001b[0;34m(\u001b[0m\u001b[0mindexer\u001b[0m\u001b[0;34m)\u001b[0m\u001b[0;34m,\u001b[0m \u001b[0mmissing\u001b[0m\u001b[0;34m\u001b[0m\u001b[0m\n\u001b[1;32m   2818\u001b[0m \u001b[0;34m\u001b[0m\u001b[0m\n",
      "\u001b[0;32mpandas/_libs/index.pyx\u001b[0m in \u001b[0;36mpandas._libs.index.IndexEngine.get_indexer_non_unique\u001b[0;34m()\u001b[0m\n",
      "\u001b[0;32m~/miniconda3/envs/data_cleaning/lib/python3.6/site-packages/numpy/core/fromnumeric.py\u001b[0m in \u001b[0;36mresize\u001b[0;34m(a, new_shape)\u001b[0m\n\u001b[1;32m   1181\u001b[0m         \u001b[0mextra\u001b[0m \u001b[0;34m=\u001b[0m \u001b[0mNa\u001b[0m \u001b[0;34m-\u001b[0m \u001b[0mextra\u001b[0m\u001b[0;34m\u001b[0m\u001b[0m\n\u001b[1;32m   1182\u001b[0m \u001b[0;34m\u001b[0m\u001b[0m\n\u001b[0;32m-> 1183\u001b[0;31m     \u001b[0ma\u001b[0m \u001b[0;34m=\u001b[0m \u001b[0mconcatenate\u001b[0m\u001b[0;34m(\u001b[0m\u001b[0;34m(\u001b[0m\u001b[0ma\u001b[0m\u001b[0;34m,\u001b[0m\u001b[0;34m)\u001b[0m\u001b[0;34m*\u001b[0m\u001b[0mn_copies\u001b[0m\u001b[0;34m)\u001b[0m\u001b[0;34m\u001b[0m\u001b[0m\n\u001b[0m\u001b[1;32m   1184\u001b[0m     \u001b[0;32mif\u001b[0m \u001b[0mextra\u001b[0m \u001b[0;34m>\u001b[0m \u001b[0;36m0\u001b[0m\u001b[0;34m:\u001b[0m\u001b[0;34m\u001b[0m\u001b[0m\n\u001b[1;32m   1185\u001b[0m         \u001b[0ma\u001b[0m \u001b[0;34m=\u001b[0m \u001b[0ma\u001b[0m\u001b[0;34m[\u001b[0m\u001b[0;34m:\u001b[0m\u001b[0;34m-\u001b[0m\u001b[0mextra\u001b[0m\u001b[0;34m]\u001b[0m\u001b[0;34m\u001b[0m\u001b[0m\n",
      "\u001b[0;31mKeyboardInterrupt\u001b[0m: "
     ]
    }
   ],
   "source": [
    "def make_bigrams(g):\n",
    "    se = g.court_location.shift(1)+g.court_location\n",
    "    return se\n",
    "\n",
    "df_sorted['bigrams'] = df_sorted.groupby(\n",
    "          ['player_id', 'event_id']).apply(make_bigrams).reset_index(['event_id', 'player_id'])['court_location']"
   ]
  },
  {
   "cell_type": "code",
   "execution_count": null,
   "metadata": {},
   "outputs": [],
   "source": [
    "def make_trigrams(g):\n",
    "    se = g.court_location.shift(2)+g.court_location.shift(1)+g.court_location\n",
    "    return se\n",
    "\n",
    "df_trigrams = df_bigrams.groupby(['player_id', 'event_id']).apply(make_trigrams, axis = 1)\n"
   ]
  },
  {
   "cell_type": "code",
   "execution_count": null,
   "metadata": {
    "scrolled": false
   },
   "outputs": [],
   "source": [
    "# sanity check\n",
    "# for i, g in df_bigrams.groupby(['player_id', 'event_id']):\n",
    "#     print (g[['court_location', 'bigram']])"
   ]
  },
  {
   "cell_type": "code",
   "execution_count": null,
   "metadata": {},
   "outputs": [],
   "source": [
    "df_trigrams['trigram'].value_counts()"
   ]
  },
  {
   "cell_type": "code",
   "execution_count": 36,
   "metadata": {},
   "outputs": [],
   "source": [
    "def make_team_tuples(g, axis = None):\n",
    "#     print(g)\n",
    "#     g['bigram'] = g.court_location.shift(1)+g.court_location\n",
    "    \n",
    "    if(len(g.index) == 5):\n",
    "        return g.court_location.sum()\n",
    "    return None\n",
    "\n",
    "team_positions = df_sorted.groupby(['event_id','game_clock', 'team_id']).apply(make_bigrams, axis = 1)\n"
   ]
  },
  {
   "cell_type": "code",
   "execution_count": 73,
   "metadata": {},
   "outputs": [],
   "source": [
    "# vc = team_positions.value_counts()\n",
    "# vc[vc>1]"
   ]
  },
  {
   "cell_type": "code",
   "execution_count": 120,
   "metadata": {},
   "outputs": [],
   "source": [
    "# test\n",
    "# df_with_ball_loc[df_with_ball_loc.player_id == -1][['ball_loc', 'player_id', 'court_location']]\n",
    "# df_with_ball_loc[df_with_ball_loc.player_id != -1][['ball_loc', 'player_id', 'court_location']]"
   ]
  },
  {
   "cell_type": "code",
   "execution_count": 123,
   "metadata": {},
   "outputs": [],
   "source": [
    "df_with_ball_loc['player_ball'] = df_with_ball_loc['ball_loc']+df_with_ball_loc['court_location']"
   ]
  },
  {
   "cell_type": "code",
   "execution_count": 126,
   "metadata": {},
   "outputs": [],
   "source": [
    "# df_with_ball_loc.player_ball.value_counts()"
   ]
  },
  {
   "cell_type": "code",
   "execution_count": 152,
   "metadata": {},
   "outputs": [],
   "source": [
    "def make_bigrams_player_ball(g):\n",
    "    g['player_ball'] = g.player_ball.apply(lambda x: (x, ) if x is not None else None)\n",
    "    g['bigram_player_ball'] = g.player_ball.shift(1)+g.player_ball\n",
    "    return g\n",
    "\n",
    "df_bigrams_with_ball = df_with_ball_loc.groupby(['player_id', 'event_id']).apply(make_bigrams_player_ball)\n"
   ]
  },
  {
   "cell_type": "code",
   "execution_count": 154,
   "metadata": {},
   "outputs": [
    {
     "data": {
      "text/plain": [
       "((9.0, 9.0), (9.0, 9.0))        720\n",
       "((12.0, 12.0), (12.0, 12.0))    617\n",
       "((20.0, 20.0), (20.0, 20.0))    297\n",
       "((16.0, 16.0), (16.0, 16.0))    266\n",
       "((9.0, 12.0), (9.0, 12.0))      219\n",
       "((12.0, 2.0), (12.0, 2.0))      154\n",
       "((20.0, 12.0), (20.0, 12.0))    140\n",
       "((9.0, 20.0), (9.0, 20.0))      138\n",
       "((9.0, 16.0), (9.0, 16.0))      136\n",
       "((12.0, 16.0), (12.0, 16.0))    111\n",
       "((12.0, 11.0), (12.0, 11.0))    108\n",
       "((16.0, 12.0), (16.0, 12.0))     99\n",
       "((20.0, 2.0), (20.0, 2.0))       98\n",
       "((12.0, 9.0), (12.0, 9.0))       98\n",
       "((12.0, 20.0), (12.0, 20.0))     90\n",
       "((9.0, 6.0), (9.0, 6.0))         87\n",
       "((9.0, 2.0), (9.0, 2.0))         87\n",
       "((9.0, 10.0), (9.0, 10.0))       86\n",
       "((12.0, 6.0), (12.0, 6.0))       86\n",
       "((12.0, 10.0), (12.0, 10.0))     75\n",
       "((20.0, 16.0), (20.0, 16.0))     75\n",
       "((16.0, 9.0), (16.0, 9.0))       73\n",
       "((16.0, 6.0), (16.0, 6.0))       72\n",
       "((12.0, 15.0), (12.0, 15.0))     69\n",
       "((6.0, 6.0), (6.0, 6.0))         68\n",
       "((20.0, 19.0), (20.0, 19.0))     62\n",
       "((12.0, 19.0), (12.0, 19.0))     61\n",
       "((20.0, 11.0), (20.0, 11.0))     60\n",
       "((16.0, 20.0), (16.0, 20.0))     59\n",
       "((20.0, 9.0), (20.0, 9.0))       59\n",
       "                               ... \n",
       "((12.0, 19.0), (20.0, 10.0))      1\n",
       "((19.0, 20.0), (6.0, 7.0))        1\n",
       "((12.0, 20.0), (20.0, 16.0))      1\n",
       "((7.0, 6.0), (20.0, 19.0))        1\n",
       "((19.0, 20.0), (11.0, 20.0))      1\n",
       "((20.0, 19.0), (12.0, 7.0))       1\n",
       "((11.0, 11.0), (20.0, 12.0))      1\n",
       "((11.0, 16.0), (6.0, 16.0))       1\n",
       "((15.0, 16.0), (11.0, 16.0))      1\n",
       "((16.0, 10.0), (12.0, 2.0))       1\n",
       "((6.0, 3.0), (7.0, 16.0))         1\n",
       "((16.0, 12.0), (12.0, 20.0))      1\n",
       "((12.0, 15.0), (11.0, 11.0))      1\n",
       "((6.0, 4.0), (7.0, 3.0))          1\n",
       "((8.0, 6.0), (6.0, 10.0))         1\n",
       "((12.0, 8.0), (20.0, 7.0))        1\n",
       "(nan, (6.0, 2.0))                 1\n",
       "((12.0, 19.0), (15.0, 12.0))      1\n",
       "((20.0, 20.0), (16.0, 19.0))      1\n",
       "((7.0, 9.0), (20.0, 9.0))         1\n",
       "((7.0, 16.0), (9.0, 16.0))        1\n",
       "((16.0, 6.0), (3.0, 6.0))         1\n",
       "((15.0, 16.0), (10.0, 15.0))      1\n",
       "((2.0, 2.0), (15.0, 10.0))        1\n",
       "((3.0, 2.0), (16.0, 15.0))        1\n",
       "((6.0, 11.0), (9.0, 15.0))        1\n",
       "((16.0, 11.0), (10.0, 11.0))      1\n",
       "((3.0, 7.0), (3.0, 7.0))          1\n",
       "((15.0, 20.0), (11.0, 12.0))      1\n",
       "((6.0, 16.0), (9.0, 20.0))        1\n",
       "Name: bigram_player_ball, Length: 2351, dtype: int64"
      ]
     },
     "execution_count": 154,
     "metadata": {},
     "output_type": "execute_result"
    }
   ],
   "source": [
    "vc = df_bigrams_with_ball['bigram_player_ball'].value_counts()\n",
    "vc"
   ]
  },
  {
   "cell_type": "code",
   "execution_count": 255,
   "metadata": {},
   "outputs": [],
   "source": [
    "def make_sparse_mat(df, dictionary, crit):\n",
    "    gs = df.groupby(['GAME_ID', 'player_id'])\n",
    "    mat = sp.dok_matrix((len(gs),len(dictionary.keys())), dtype=np.int8)\n",
    "    unique_plays = 0\n",
    "    for i, _gs in enumerate(gs):\n",
    "        _, _g = _gs \n",
    "        player_game_stats = _g[crit].value_counts()\n",
    "        for k, v in player_game_stats.items():\n",
    "            mat[i, dictionary[k]] = v\n",
    "#     vc = g.apply(lambda x: x[crit].value_counts())\n",
    "    return mat.transpose().tocsr()\n",
    "    # word->id"
   ]
  },
  {
   "cell_type": "code",
   "execution_count": 256,
   "metadata": {},
   "outputs": [],
   "source": [
    "def make_dictionary(df, crit):\n",
    "    d = {}\n",
    "    gs = df.groupby(['GAME_ID', 'player_id'])\n",
    "    unique_plays = 0\n",
    "    for i, _g in gs:\n",
    "        player_game_stats = _g[crit].value_counts()\n",
    "        \n",
    "        for k, v in player_game_stats.items():\n",
    "            if k not in d.keys():\n",
    "                d[k] = unique_plays\n",
    "                unique_plays+=1\n",
    "#     vc = g.apply(lambda x: x[crit].value_counts())\n",
    "    return d\n",
    "    # word->id\n",
    "\n",
    "def make_id2word(dictionary):\n",
    "    d = {}\n",
    "    for k, v in dictionary.items():\n",
    "        d[v] = k\n",
    "    return d\n",
    "    # id->word\n",
    "    "
   ]
  },
  {
   "cell_type": "code",
   "execution_count": 257,
   "metadata": {},
   "outputs": [
    {
     "data": {
      "text/plain": [
       "<2351x19 sparse matrix of type '<class 'numpy.int8'>'\n",
       "\twith 6679 stored elements in Compressed Sparse Row format>"
      ]
     },
     "execution_count": 257,
     "metadata": {},
     "output_type": "execute_result"
    }
   ],
   "source": [
    "# gs = df_bigrams_with_ball[['player_id', 'bigram_player_ball']].dropna()\n",
    "# gs = gs.groupby(['player_id'])\n",
    "# dictionary = {}\n",
    "# for i, g in gs:\n",
    "# #     transformed.append()\n",
    "# #     print(g.bigram_player_ball.value_counts())\n",
    "#     print(i)\n",
    "dictionary = make_dictionary(df_bigrams_with_ball, 'bigram_player_ball')\n",
    "make_sparse_mat(df_bigrams_with_ball, dictionary, 'bigram_player_ball')"
   ]
  },
  {
   "cell_type": "code",
   "execution_count": 201,
   "metadata": {},
   "outputs": [
    {
     "data": {
      "text/plain": [
       "Index(['Unnamed: 0', 'event_id', 'game_clock', 'home', 'player_id', 'radius',\n",
       "       'shot_clock', 'team_id', 'visitor', 'x_loc', 'y_loc', 'court_location',\n",
       "       'GAME_ID', 'EVENTNUM', 'EVENTMSGTYPE', 'EVENTMSGACTIONTYPE', 'PERIOD',\n",
       "       'WCTIMESTRING', 'PCTIMESTRING', 'HOMEDESCRIPTION', 'NEUTRALDESCRIPTION',\n",
       "       'VISITORDESCRIPTION', 'SCORE', 'SCOREMARGIN', 'PERSON1TYPE',\n",
       "       'PLAYER1_ID', 'PLAYER1_NAME', 'PLAYER1_TEAM_ID', 'PLAYER1_TEAM_CITY',\n",
       "       'PLAYER1_TEAM_NICKNAME', 'PLAYER1_TEAM_ABBREVIATION', 'PERSON2TYPE',\n",
       "       'PLAYER2_ID', 'PLAYER2_NAME', 'PLAYER2_TEAM_ID', 'PLAYER2_TEAM_CITY',\n",
       "       'PLAYER2_TEAM_NICKNAME', 'PLAYER2_TEAM_ABBREVIATION', 'PERSON3TYPE',\n",
       "       'PLAYER3_ID', 'PLAYER3_NAME', 'PLAYER3_TEAM_ID', 'PLAYER3_TEAM_CITY',\n",
       "       'PLAYER3_TEAM_NICKNAME', 'PLAYER3_TEAM_ABBREVIATION', 'ball_loc',\n",
       "       'player_ball', 'bigram_player_ball'],\n",
       "      dtype='object')"
      ]
     },
     "execution_count": 201,
     "metadata": {},
     "output_type": "execute_result"
    }
   ],
   "source": [
    "df_bigrams_with_ball.columns"
   ]
  },
  {
   "cell_type": "code",
   "execution_count": null,
   "metadata": {},
   "outputs": [],
   "source": []
  }
 ],
 "metadata": {
  "kernelspec": {
   "display_name": "data_cleaning",
   "language": "python",
   "name": "data_cleaning"
  },
  "language_info": {
   "codemirror_mode": {
    "name": "ipython",
    "version": 3
   },
   "file_extension": ".py",
   "mimetype": "text/x-python",
   "name": "python",
   "nbconvert_exporter": "python",
   "pygments_lexer": "ipython3",
   "version": "3.6.4"
  }
 },
 "nbformat": 4,
 "nbformat_minor": 2
}
